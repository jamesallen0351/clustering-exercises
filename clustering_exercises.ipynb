{
 "cells": [
  {
   "cell_type": "code",
   "execution_count": null,
   "id": "bc5881bc",
   "metadata": {},
   "outputs": [],
   "source": [
    "# clustering_exercises"
   ]
  },
  {
   "cell_type": "markdown",
   "id": "3020d8d2",
   "metadata": {},
   "source": [
    "# Clustering\n",
    "\n",
    "## Workflow\n",
    "\n",
    "### - Throughout the exercises, you may wish to do your work in a notebook, then transfer any functions you've created to an external python script.\n",
    "\n",
    "### - Keep in mind this is not always a linear process! You will probably be cycling between a notebook and an external python script frequently.\n",
    "\n",
    "### - Remember to run your code often to check for correct output and/or errors."
   ]
  },
  {
   "cell_type": "code",
   "execution_count": 1,
   "id": "36e201fa",
   "metadata": {},
   "outputs": [],
   "source": [
    "# ignore warnings\n",
    "import warnings\n",
    "warnings.filterwarnings(\"ignore\")\n",
    "\n",
    "# Wrangling\n",
    "import pandas as pd\n",
    "import numpy as np\n",
    "\n",
    "# Exploring\n",
    "import scipy.stats as stats\n",
    "\n",
    "# Visualizing\n",
    "# matplotlib inline\n",
    "import matplotlib.pyplot as plt\n",
    "import seaborn as sns\n",
    "\n",
    "# default pandas decimal number display format\n",
    "pd.options.display.float_format = '{:20,.2f}'.format\n",
    "\n",
    "import acquire_1\n",
    "import wrangle_zillow\n",
    "# import summarize\n",
    "# import prepare"
   ]
  },
  {
   "cell_type": "markdown",
   "id": "39693f3b",
   "metadata": {},
   "source": [
    "# Zillow\n",
    "\n",
    "### For the following, iterate through the steps you would take to create functions: Write the code to do the following in a jupyter notebook, test it, convert to functions, then create the file to house those functions.\n",
    "\n",
    "### You will have a zillow.ipynb file and a helper file for each section in the pipeline."
   ]
  },
  {
   "cell_type": "code",
   "execution_count": 2,
   "id": "00199243",
   "metadata": {
    "scrolled": true
   },
   "outputs": [
    {
     "data": {
      "text/html": [
       "<div>\n",
       "<style scoped>\n",
       "    .dataframe tbody tr th:only-of-type {\n",
       "        vertical-align: middle;\n",
       "    }\n",
       "\n",
       "    .dataframe tbody tr th {\n",
       "        vertical-align: top;\n",
       "    }\n",
       "\n",
       "    .dataframe thead th {\n",
       "        text-align: right;\n",
       "    }\n",
       "</style>\n",
       "<table border=\"1\" class=\"dataframe\">\n",
       "  <thead>\n",
       "    <tr style=\"text-align: right;\">\n",
       "      <th></th>\n",
       "      <th>parcelid</th>\n",
       "      <th>logerror</th>\n",
       "      <th>bathroomcnt</th>\n",
       "      <th>bedroomcnt</th>\n",
       "      <th>calculatedfinishedsquarefeet</th>\n",
       "      <th>fips</th>\n",
       "      <th>latitude</th>\n",
       "      <th>longitude</th>\n",
       "      <th>lotsizesquarefeet</th>\n",
       "      <th>propertylandusetypeid</th>\n",
       "      <th>regionidcity</th>\n",
       "      <th>regionidcounty</th>\n",
       "      <th>regionidzip</th>\n",
       "      <th>yearbuilt</th>\n",
       "      <th>structuretaxvaluedollarcnt</th>\n",
       "      <th>taxvaluedollarcnt</th>\n",
       "      <th>landtaxvaluedollarcnt</th>\n",
       "      <th>taxamount</th>\n",
       "    </tr>\n",
       "  </thead>\n",
       "  <tbody>\n",
       "    <tr>\n",
       "      <th>0</th>\n",
       "      <td>14297519</td>\n",
       "      <td>0.03</td>\n",
       "      <td>3.50</td>\n",
       "      <td>4.00</td>\n",
       "      <td>3,100.00</td>\n",
       "      <td>6,059.00</td>\n",
       "      <td>33,634,931.00</td>\n",
       "      <td>-117,869,207.00</td>\n",
       "      <td>4,506.00</td>\n",
       "      <td>261.00</td>\n",
       "      <td>53,571.00</td>\n",
       "      <td>1,286.00</td>\n",
       "      <td>96,978.00</td>\n",
       "      <td>1,998.00</td>\n",
       "      <td>485,713.00</td>\n",
       "      <td>1,023,282.00</td>\n",
       "      <td>537,569.00</td>\n",
       "      <td>11,013.72</td>\n",
       "    </tr>\n",
       "    <tr>\n",
       "      <th>1</th>\n",
       "      <td>17052889</td>\n",
       "      <td>0.06</td>\n",
       "      <td>1.00</td>\n",
       "      <td>2.00</td>\n",
       "      <td>1,465.00</td>\n",
       "      <td>6,111.00</td>\n",
       "      <td>34,449,266.00</td>\n",
       "      <td>-119,281,531.00</td>\n",
       "      <td>12,647.00</td>\n",
       "      <td>261.00</td>\n",
       "      <td>13,091.00</td>\n",
       "      <td>2,061.00</td>\n",
       "      <td>97,099.00</td>\n",
       "      <td>1,967.00</td>\n",
       "      <td>88,000.00</td>\n",
       "      <td>464,000.00</td>\n",
       "      <td>376,000.00</td>\n",
       "      <td>5,672.48</td>\n",
       "    </tr>\n",
       "    <tr>\n",
       "      <th>2</th>\n",
       "      <td>14186244</td>\n",
       "      <td>0.01</td>\n",
       "      <td>2.00</td>\n",
       "      <td>3.00</td>\n",
       "      <td>1,243.00</td>\n",
       "      <td>6,059.00</td>\n",
       "      <td>33,886,168.00</td>\n",
       "      <td>-117,823,170.00</td>\n",
       "      <td>8,432.00</td>\n",
       "      <td>261.00</td>\n",
       "      <td>21,412.00</td>\n",
       "      <td>1,286.00</td>\n",
       "      <td>97,078.00</td>\n",
       "      <td>1,962.00</td>\n",
       "      <td>85,289.00</td>\n",
       "      <td>564,778.00</td>\n",
       "      <td>479,489.00</td>\n",
       "      <td>6,488.30</td>\n",
       "    </tr>\n",
       "    <tr>\n",
       "      <th>3</th>\n",
       "      <td>12177905</td>\n",
       "      <td>-0.10</td>\n",
       "      <td>3.00</td>\n",
       "      <td>4.00</td>\n",
       "      <td>2,376.00</td>\n",
       "      <td>6,037.00</td>\n",
       "      <td>34,245,180.00</td>\n",
       "      <td>-118,240,722.00</td>\n",
       "      <td>13,038.00</td>\n",
       "      <td>261.00</td>\n",
       "      <td>396,551.00</td>\n",
       "      <td>3,101.00</td>\n",
       "      <td>96,330.00</td>\n",
       "      <td>1,970.00</td>\n",
       "      <td>108,918.00</td>\n",
       "      <td>145,143.00</td>\n",
       "      <td>36,225.00</td>\n",
       "      <td>1,777.51</td>\n",
       "    </tr>\n",
       "    <tr>\n",
       "      <th>4</th>\n",
       "      <td>12095076</td>\n",
       "      <td>-0.00</td>\n",
       "      <td>3.00</td>\n",
       "      <td>4.00</td>\n",
       "      <td>2,962.00</td>\n",
       "      <td>6,037.00</td>\n",
       "      <td>34,145,202.00</td>\n",
       "      <td>-118,179,824.00</td>\n",
       "      <td>63,000.00</td>\n",
       "      <td>261.00</td>\n",
       "      <td>47,019.00</td>\n",
       "      <td>3,101.00</td>\n",
       "      <td>96,293.00</td>\n",
       "      <td>1,950.00</td>\n",
       "      <td>276,684.00</td>\n",
       "      <td>773,303.00</td>\n",
       "      <td>496,619.00</td>\n",
       "      <td>9,516.26</td>\n",
       "    </tr>\n",
       "  </tbody>\n",
       "</table>\n",
       "</div>"
      ],
      "text/plain": [
       "   parcelid             logerror          bathroomcnt           bedroomcnt  \\\n",
       "0  14297519                 0.03                 3.50                 4.00   \n",
       "1  17052889                 0.06                 1.00                 2.00   \n",
       "2  14186244                 0.01                 2.00                 3.00   \n",
       "3  12177905                -0.10                 3.00                 4.00   \n",
       "4  12095076                -0.00                 3.00                 4.00   \n",
       "\n",
       "   calculatedfinishedsquarefeet                 fips             latitude  \\\n",
       "0                      3,100.00             6,059.00        33,634,931.00   \n",
       "1                      1,465.00             6,111.00        34,449,266.00   \n",
       "2                      1,243.00             6,059.00        33,886,168.00   \n",
       "3                      2,376.00             6,037.00        34,245,180.00   \n",
       "4                      2,962.00             6,037.00        34,145,202.00   \n",
       "\n",
       "             longitude    lotsizesquarefeet  propertylandusetypeid  \\\n",
       "0      -117,869,207.00             4,506.00                 261.00   \n",
       "1      -119,281,531.00            12,647.00                 261.00   \n",
       "2      -117,823,170.00             8,432.00                 261.00   \n",
       "3      -118,240,722.00            13,038.00                 261.00   \n",
       "4      -118,179,824.00            63,000.00                 261.00   \n",
       "\n",
       "          regionidcity       regionidcounty          regionidzip  \\\n",
       "0            53,571.00             1,286.00            96,978.00   \n",
       "1            13,091.00             2,061.00            97,099.00   \n",
       "2            21,412.00             1,286.00            97,078.00   \n",
       "3           396,551.00             3,101.00            96,330.00   \n",
       "4            47,019.00             3,101.00            96,293.00   \n",
       "\n",
       "             yearbuilt  structuretaxvaluedollarcnt    taxvaluedollarcnt  \\\n",
       "0             1,998.00                  485,713.00         1,023,282.00   \n",
       "1             1,967.00                   88,000.00           464,000.00   \n",
       "2             1,962.00                   85,289.00           564,778.00   \n",
       "3             1,970.00                  108,918.00           145,143.00   \n",
       "4             1,950.00                  276,684.00           773,303.00   \n",
       "\n",
       "   landtaxvaluedollarcnt            taxamount  \n",
       "0             537,569.00            11,013.72  \n",
       "1             376,000.00             5,672.48  \n",
       "2             479,489.00             6,488.30  \n",
       "3              36,225.00             1,777.51  \n",
       "4             496,619.00             9,516.26  "
      ]
     },
     "execution_count": 2,
     "metadata": {},
     "output_type": "execute_result"
    }
   ],
   "source": [
    "df = acquire_1.get_zillow_data()\n",
    "\n",
    "df.head()"
   ]
  },
  {
   "cell_type": "code",
   "execution_count": 4,
   "id": "2fbeb82d",
   "metadata": {},
   "outputs": [],
   "source": [
    "df = wrangle_zillow.prepare_zillow(df)"
   ]
  },
  {
   "cell_type": "code",
   "execution_count": 6,
   "id": "279b1ae9",
   "metadata": {},
   "outputs": [
    {
     "data": {
      "text/html": [
       "<div>\n",
       "<style scoped>\n",
       "    .dataframe tbody tr th:only-of-type {\n",
       "        vertical-align: middle;\n",
       "    }\n",
       "\n",
       "    .dataframe tbody tr th {\n",
       "        vertical-align: top;\n",
       "    }\n",
       "\n",
       "    .dataframe thead th {\n",
       "        text-align: right;\n",
       "    }\n",
       "</style>\n",
       "<table border=\"1\" class=\"dataframe\">\n",
       "  <thead>\n",
       "    <tr style=\"text-align: right;\">\n",
       "      <th></th>\n",
       "      <th>parcelid</th>\n",
       "      <th>logerror</th>\n",
       "      <th>bathroomcnt</th>\n",
       "      <th>bedroomcnt</th>\n",
       "      <th>calculatedfinishedsquarefeet</th>\n",
       "      <th>fips</th>\n",
       "      <th>latitude</th>\n",
       "      <th>longitude</th>\n",
       "      <th>lotsizesquarefeet</th>\n",
       "      <th>propertylandusetypeid</th>\n",
       "      <th>...</th>\n",
       "      <th>regionidcounty</th>\n",
       "      <th>regionidzip</th>\n",
       "      <th>yearbuilt</th>\n",
       "      <th>structuretaxvaluedollarcnt</th>\n",
       "      <th>taxvaluedollarcnt</th>\n",
       "      <th>landtaxvaluedollarcnt</th>\n",
       "      <th>taxamount</th>\n",
       "      <th>LA</th>\n",
       "      <th>Orange</th>\n",
       "      <th>Ventura</th>\n",
       "    </tr>\n",
       "  </thead>\n",
       "  <tbody>\n",
       "    <tr>\n",
       "      <th>0</th>\n",
       "      <td>14297519</td>\n",
       "      <td>0.03</td>\n",
       "      <td>3.50</td>\n",
       "      <td>4.00</td>\n",
       "      <td>3,100.00</td>\n",
       "      <td>6,059.00</td>\n",
       "      <td>33,634,931.00</td>\n",
       "      <td>-117,869,207.00</td>\n",
       "      <td>4,506.00</td>\n",
       "      <td>261.00</td>\n",
       "      <td>...</td>\n",
       "      <td>1,286.00</td>\n",
       "      <td>96,978.00</td>\n",
       "      <td>1,998.00</td>\n",
       "      <td>485,713.00</td>\n",
       "      <td>1,023,282.00</td>\n",
       "      <td>537,569.00</td>\n",
       "      <td>11,013.72</td>\n",
       "      <td>0</td>\n",
       "      <td>1</td>\n",
       "      <td>0</td>\n",
       "    </tr>\n",
       "    <tr>\n",
       "      <th>1</th>\n",
       "      <td>17052889</td>\n",
       "      <td>0.06</td>\n",
       "      <td>1.00</td>\n",
       "      <td>2.00</td>\n",
       "      <td>1,465.00</td>\n",
       "      <td>6,111.00</td>\n",
       "      <td>34,449,266.00</td>\n",
       "      <td>-119,281,531.00</td>\n",
       "      <td>12,647.00</td>\n",
       "      <td>261.00</td>\n",
       "      <td>...</td>\n",
       "      <td>2,061.00</td>\n",
       "      <td>97,099.00</td>\n",
       "      <td>1,967.00</td>\n",
       "      <td>88,000.00</td>\n",
       "      <td>464,000.00</td>\n",
       "      <td>376,000.00</td>\n",
       "      <td>5,672.48</td>\n",
       "      <td>0</td>\n",
       "      <td>0</td>\n",
       "      <td>1</td>\n",
       "    </tr>\n",
       "    <tr>\n",
       "      <th>2</th>\n",
       "      <td>14186244</td>\n",
       "      <td>0.01</td>\n",
       "      <td>2.00</td>\n",
       "      <td>3.00</td>\n",
       "      <td>1,243.00</td>\n",
       "      <td>6,059.00</td>\n",
       "      <td>33,886,168.00</td>\n",
       "      <td>-117,823,170.00</td>\n",
       "      <td>8,432.00</td>\n",
       "      <td>261.00</td>\n",
       "      <td>...</td>\n",
       "      <td>1,286.00</td>\n",
       "      <td>97,078.00</td>\n",
       "      <td>1,962.00</td>\n",
       "      <td>85,289.00</td>\n",
       "      <td>564,778.00</td>\n",
       "      <td>479,489.00</td>\n",
       "      <td>6,488.30</td>\n",
       "      <td>0</td>\n",
       "      <td>1</td>\n",
       "      <td>0</td>\n",
       "    </tr>\n",
       "    <tr>\n",
       "      <th>3</th>\n",
       "      <td>12177905</td>\n",
       "      <td>-0.10</td>\n",
       "      <td>3.00</td>\n",
       "      <td>4.00</td>\n",
       "      <td>2,376.00</td>\n",
       "      <td>6,037.00</td>\n",
       "      <td>34,245,180.00</td>\n",
       "      <td>-118,240,722.00</td>\n",
       "      <td>13,038.00</td>\n",
       "      <td>261.00</td>\n",
       "      <td>...</td>\n",
       "      <td>3,101.00</td>\n",
       "      <td>96,330.00</td>\n",
       "      <td>1,970.00</td>\n",
       "      <td>108,918.00</td>\n",
       "      <td>145,143.00</td>\n",
       "      <td>36,225.00</td>\n",
       "      <td>1,777.51</td>\n",
       "      <td>1</td>\n",
       "      <td>0</td>\n",
       "      <td>0</td>\n",
       "    </tr>\n",
       "    <tr>\n",
       "      <th>4</th>\n",
       "      <td>12095076</td>\n",
       "      <td>-0.00</td>\n",
       "      <td>3.00</td>\n",
       "      <td>4.00</td>\n",
       "      <td>2,962.00</td>\n",
       "      <td>6,037.00</td>\n",
       "      <td>34,145,202.00</td>\n",
       "      <td>-118,179,824.00</td>\n",
       "      <td>63,000.00</td>\n",
       "      <td>261.00</td>\n",
       "      <td>...</td>\n",
       "      <td>3,101.00</td>\n",
       "      <td>96,293.00</td>\n",
       "      <td>1,950.00</td>\n",
       "      <td>276,684.00</td>\n",
       "      <td>773,303.00</td>\n",
       "      <td>496,619.00</td>\n",
       "      <td>9,516.26</td>\n",
       "      <td>1</td>\n",
       "      <td>0</td>\n",
       "      <td>0</td>\n",
       "    </tr>\n",
       "  </tbody>\n",
       "</table>\n",
       "<p>5 rows × 21 columns</p>\n",
       "</div>"
      ],
      "text/plain": [
       "   parcelid             logerror          bathroomcnt           bedroomcnt  \\\n",
       "0  14297519                 0.03                 3.50                 4.00   \n",
       "1  17052889                 0.06                 1.00                 2.00   \n",
       "2  14186244                 0.01                 2.00                 3.00   \n",
       "3  12177905                -0.10                 3.00                 4.00   \n",
       "4  12095076                -0.00                 3.00                 4.00   \n",
       "\n",
       "   calculatedfinishedsquarefeet                 fips             latitude  \\\n",
       "0                      3,100.00             6,059.00        33,634,931.00   \n",
       "1                      1,465.00             6,111.00        34,449,266.00   \n",
       "2                      1,243.00             6,059.00        33,886,168.00   \n",
       "3                      2,376.00             6,037.00        34,245,180.00   \n",
       "4                      2,962.00             6,037.00        34,145,202.00   \n",
       "\n",
       "             longitude    lotsizesquarefeet  propertylandusetypeid  ...  \\\n",
       "0      -117,869,207.00             4,506.00                 261.00  ...   \n",
       "1      -119,281,531.00            12,647.00                 261.00  ...   \n",
       "2      -117,823,170.00             8,432.00                 261.00  ...   \n",
       "3      -118,240,722.00            13,038.00                 261.00  ...   \n",
       "4      -118,179,824.00            63,000.00                 261.00  ...   \n",
       "\n",
       "        regionidcounty          regionidzip            yearbuilt  \\\n",
       "0             1,286.00            96,978.00             1,998.00   \n",
       "1             2,061.00            97,099.00             1,967.00   \n",
       "2             1,286.00            97,078.00             1,962.00   \n",
       "3             3,101.00            96,330.00             1,970.00   \n",
       "4             3,101.00            96,293.00             1,950.00   \n",
       "\n",
       "   structuretaxvaluedollarcnt    taxvaluedollarcnt  landtaxvaluedollarcnt  \\\n",
       "0                  485,713.00         1,023,282.00             537,569.00   \n",
       "1                   88,000.00           464,000.00             376,000.00   \n",
       "2                   85,289.00           564,778.00             479,489.00   \n",
       "3                  108,918.00           145,143.00              36,225.00   \n",
       "4                  276,684.00           773,303.00             496,619.00   \n",
       "\n",
       "             taxamount  LA  Orange  Ventura  \n",
       "0            11,013.72   0       1        0  \n",
       "1             5,672.48   0       0        1  \n",
       "2             6,488.30   0       1        0  \n",
       "3             1,777.51   1       0        0  \n",
       "4             9,516.26   1       0        0  \n",
       "\n",
       "[5 rows x 21 columns]"
      ]
     },
     "execution_count": 6,
     "metadata": {},
     "output_type": "execute_result"
    }
   ],
   "source": [
    "df.head() # check_yo_head"
   ]
  },
  {
   "cell_type": "code",
   "execution_count": 12,
   "id": "a6772831",
   "metadata": {
    "scrolled": true
   },
   "outputs": [
    {
     "data": {
      "image/png": "[encoded data removed]",
      "text/plain": [
       "<Figure size 432x288 with 1 Axes>"
      ]
     },
     "metadata": {
      "needs_background": "light"
     },
     "output_type": "display_data"
    },
    {
     "data": {
      "image/png": "[encoded data removed]",
      "text/plain": [
       "<Figure size 432x288 with 1 Axes>"
      ]
     },
     "metadata": {
      "needs_background": "light"
     },
     "output_type": "display_data"
    },
    {
     "data": {
      "image/png": "[encoded data removed]",
      "text/plain": [
       "<Figure size 432x288 with 1 Axes>"
      ]
     },
     "metadata": {
      "needs_background": "light"
     },
     "output_type": "display_data"
    },
    {
     "data": {
      "image/png": "[encoded data removed]",
      "text/plain": [
       "<Figure size 432x288 with 1 Axes>"
      ]
     },
     "metadata": {
      "needs_background": "light"
     },
     "output_type": "display_data"
    },
    {
     "data": {
      "image/png": "[encoded data removed]",
      "text/plain": [
       "<Figure size 432x288 with 1 Axes>"
      ]
     },
     "metadata": {
      "needs_background": "light"
     },
     "output_type": "display_data"
    },
    {
     "data": {
      "image/png": "[encoded data removed]",
      "text/plain": [
       "<Figure size 432x288 with 1 Axes>"
      ]
     },
     "metadata": {
      "needs_background": "light"
     },
     "output_type": "display_data"
    },
    {
     "data": {
      "image/png": "[encoded data removed]",
      "text/plain": [
       "<Figure size 432x288 with 1 Axes>"
      ]
     },
     "metadata": {
      "needs_background": "light"
     },
     "output_type": "display_data"
    },
    {
     "data": {
      "image/png": "[encoded data removed]",
      "text/plain": [
       "<Figure size 432x288 with 1 Axes>"
      ]
     },
     "metadata": {
      "needs_background": "light"
     },
     "output_type": "display_data"
    },
    {
     "data": {
      "image/png": "[encoded data removed]",
      "text/plain": [
       "<Figure size 432x288 with 1 Axes>"
      ]
     },
     "metadata": {
      "needs_background": "light"
     },
     "output_type": "display_data"
    },
    {
     "data": {
      "image/png": "[encoded data removed]",
      "text/plain": [
       "<Figure size 432x288 with 1 Axes>"
      ]
     },
     "metadata": {
      "needs_background": "light"
     },
     "output_type": "display_data"
    },
    {
     "data": {
      "image/png": "[encoded data removed]",
      "text/plain": [
       "<Figure size 432x288 with 1 Axes>"
      ]
     },
     "metadata": {
      "needs_background": "light"
     },
     "output_type": "display_data"
    },
    {
     "data": {
      "image/png": "[encoded data removed]",
      "text/plain": [
       "<Figure size 432x288 with 1 Axes>"
      ]
     },
     "metadata": {
      "needs_background": "light"
     },
     "output_type": "display_data"
    },
    {
     "data": {
      "image/png": "[encoded data removed]",
      "text/plain": [
       "<Figure size 432x288 with 1 Axes>"
      ]
     },
     "metadata": {
      "needs_background": "light"
     },
     "output_type": "display_data"
    },
    {
     "data": {
      "image/png": "[encoded data removed]",
      "text/plain": [
       "<Figure size 432x288 with 1 Axes>"
      ]
     },
     "metadata": {
      "needs_background": "light"
     },
     "output_type": "display_data"
    },
    {
     "data": {
      "image/png": "[encoded data removed]",
      "text/plain": [
       "<Figure size 432x288 with 1 Axes>"
      ]
     },
     "metadata": {
      "needs_background": "light"
     },
     "output_type": "display_data"
    },
    {
     "data": {
      "image/png": "[encoded data removed]",
      "text/plain": [
       "<Figure size 432x288 with 1 Axes>"
      ]
     },
     "metadata": {
      "needs_background": "light"
     },
     "output_type": "display_data"
    },
    {
     "data": {
      "image/png": "[encoded data removed]",
      "text/plain": [
       "<Figure size 432x288 with 1 Axes>"
      ]
     },
     "metadata": {
      "needs_background": "light"
     },
     "output_type": "display_data"
    },
    {
     "data": {
      "image/png": "[encoded data removed]",
      "text/plain": [
       "<Figure size 432x288 with 1 Axes>"
      ]
     },
     "metadata": {
      "needs_background": "light"
     },
     "output_type": "display_data"
    },
    {
     "data": {
      "image/png": "[encoded data removed]",
      "text/plain": [
       "<Figure size 432x288 with 1 Axes>"
      ]
     },
     "metadata": {
      "needs_background": "light"
     },
     "output_type": "display_data"
    },
    {
     "data": {
      "image/png": "[encoded data removed]",
      "text/plain": [
       "<Figure size 432x288 with 1 Axes>"
      ]
     },
     "metadata": {
      "needs_background": "light"
     },
     "output_type": "display_data"
    },
    {
     "data": {
      "image/png": "[encoded data removed]",
      "text/plain": [
       "<Figure size 432x288 with 1 Axes>"
      ]
     },
     "metadata": {
      "needs_background": "light"
     },
     "output_type": "display_data"
    }
   ],
   "source": [
    "for col in df.columns:\n",
    "    #plt.figure(figsize=(4,2))\n",
    "    plt.hist([col])\n",
    "    plt.title(col)\n",
    "    plt.show()"
   ]
  },
  {
   "cell_type": "code",
   "execution_count": null,
   "id": "bbec07b3",
   "metadata": {},
   "outputs": [],
   "source": [
    "sns.pairplot(df.sample(frac=0.10, replace=True, random_state=1), hue='logerror')\n",
    "plt.show()"
   ]
  },
  {
   "cell_type": "code",
   "execution_count": null,
   "id": "5d61d523",
   "metadata": {},
   "outputs": [],
   "source": [
    "sns.boxplot(df.sample(frac=0.10, replace=True, random_state=1).logerror, df.sample(frac=0.10, replace=True, random_state=1).LA)\n",
    "plt.title(\"Is there a difference in logerror vs. LA?\")\n",
    "plt.show()"
   ]
  },
  {
   "cell_type": "code",
   "execution_count": null,
   "id": "584ce912",
   "metadata": {},
   "outputs": [],
   "source": [
    "sns.boxplot(df.sample(frac=0.10, replace=True, random_state=1).logerror, df.sample(frac=0.10, replace=True, random_state=1).Orange)\n",
    "plt.title(\"Is there a difference in logerror vs. Orange?\")\n",
    "plt.show()"
   ]
  },
  {
   "cell_type": "code",
   "execution_count": null,
   "id": "922d0b53",
   "metadata": {},
   "outputs": [],
   "source": [
    "sns.boxplot(df.sample(frac=0.10, replace=True, random_state=1).logerror, df.sample(frac=0.10, replace=True, random_state=1).Ventura)\n",
    "plt.title(\"Is there a difference in logerror vs. Ventura?\")\n",
    "plt.show()"
   ]
  },
  {
   "cell_type": "code",
   "execution_count": null,
   "id": "f1dbc50c",
   "metadata": {},
   "outputs": [],
   "source": [
    "sns.jointplot(x=\"logerror\", y=\"bathroomcnt\", data=df.sample(frac=0.10, replace=True, random_state=1))\n",
    "plt.xlabel(\"Logerror\")\n",
    "plt.ylabel(\"Bathroomcnt\")\n",
    "plt.show()"
   ]
  },
  {
   "cell_type": "code",
   "execution_count": null,
   "id": "97a84320",
   "metadata": {},
   "outputs": [],
   "source": []
  },
  {
   "cell_type": "code",
   "execution_count": null,
   "id": "d4e27147",
   "metadata": {},
   "outputs": [],
   "source": [
    "# sql zillow example"
   ]
  },
  {
   "cell_type": "markdown",
   "id": "f8966a23",
   "metadata": {},
   "source": [
    "use zillow;\n",
    "\n",
    "/* are there duplicate parcels in the predictions table? */\n",
    "select parcelid, count(*)\n",
    "from predictions_2017\n",
    "group by parcelid\n",
    "having count(*) > 1;"
   ]
  },
  {
   "cell_type": "markdown",
   "id": "1d3f46a9",
   "metadata": {},
   "source": [
    "/* is this the case in the properties table? any duplicate parcels? */\n",
    "select parcelid, count(*)\n",
    "from properties_2017\n",
    "group by parcelid\n",
    "having count(*) > 1;"
   ]
  },
  {
   "cell_type": "markdown",
   "id": "4cb42e52",
   "metadata": {},
   "source": [
    "/* we need the latest transaction date for each parcelid */\n",
    "select parcelid, max(transactiondate) as transactiondate\n",
    "from predictions_2017\n",
    "group by parcelid;"
   ]
  },
  {
   "cell_type": "markdown",
   "id": "c47709c4",
   "metadata": {},
   "source": [
    "/* how can we confirm this removed the duplicates */\n",
    "-- 1. how many rows did we start out with? \n",
    "select count(*) from predictions_2017; \n",
    "-- 77,614\n",
    "\n",
    "-- 2. how many rows do we have when we group by parcelid? \n",
    "select count(*) from \n",
    "(select parcelid, max(transactiondate) as transactiondate\n",
    "from predictions_2017\n",
    "group by parcelid\n",
    ") a\n",
    ";\n",
    "-- 77,414"
   ]
  },
  {
   "cell_type": "markdown",
   "id": "f504e618",
   "metadata": {},
   "source": [
    "-- we want the info from properties table and the date and logerror from the predictions table\n",
    "\n",
    "-- 2. next I selected 2 columns from the primary table (properties_2017) and inner joined with the txn date subquery\n",
    "select \tprop.parcelid, \n",
    "\t\t\tprop.airconditioningtypeid,\n",
    "            ac.airconditioningdesc,-- 4. finally I did a left join with the airconditioning table to get the description. \n",
    "            txn.transactiondate, \n",
    "            pred.logerror -- 3.i joined with the predictions table again to get the log error that is associated with the parcel AND transaction date\n",
    "            -- (see join below labeled #3)\n",
    "from properties_2017 prop\n",
    "join \n",
    "\t(\n",
    "    -- 1. this is what i did first...create a dataset with each parcelid and their last transaction date. \n",
    "    select parcelid, max(transactiondate) as transactiondate\n",
    "\tfrom predictions_2017\n",
    "\tgroup by parcelid\n",
    "\t) as txn on prop.parcelid = txn.parcelid  -- using(parcelid)\n",
    "\n",
    "-- # 3:     \n",
    "join predictions_2017 as pred  on prop.parcelid = pred.parcelid and pred.transactiondate = txn.transactiondate -- using(parcelid, transactiondate)\n",
    "\n",
    "-- #4: left join otherwise we would have dropped a TON of rows due to all the nulls \n",
    "left join airconditioningtype as ac on prop.airconditioningtypeid = ac.airconditioningtypeid\n",
    ";"
   ]
  },
  {
   "cell_type": "markdown",
   "id": "082d56ed",
   "metadata": {},
   "source": [
    "/* i can verify we have the correct number of rows by wrapping the entire query in a count */\n",
    "\n",
    "select count(*) from \n",
    "(\n",
    "-- 2. next I selected 2 columns from the primary table (properties_2017) and inner joined with the txn date subquery\n",
    "\t\t\tselect \tprop.parcelid, \n",
    "\t\t\t\t\t\tprop.airconditioningtypeid,\n",
    "\t\t\t\t\t\tac.airconditioningdesc,-- 4. finally I did a left join with the airconditioning table to get the description. \n",
    "\t\t\t\t\t\ttxn.transactiondate, \n",
    "\t\t\t\t\t\tpred.logerror -- 3.i joined with the predictions table again to get the log error that is associated with the parcel AND transaction date\n",
    "\t\t\t\t\t\t-- (see join below labeled #3)\n",
    "\t\t\tfrom properties_2017 prop\n",
    "\t\t\tjoin \n",
    "\t\t\t\t(\n",
    "\t\t\t\t-- 1. this is what i did first...create a dataset with each parcelid and their last transaction date. \n",
    "\t\t\t\tselect parcelid, max(transactiondate) as transactiondate\n",
    "\t\t\t\tfrom predictions_2017\n",
    "\t\t\t\tgroup by parcelid\n",
    "\t\t\t\t) as txn on prop.parcelid = txn.parcelid  -- using(parcelid)\n",
    "\n",
    "\t\t\t-- # 3:     \n",
    "\t\t\tjoin predictions_2017 as pred  on prop.parcelid = pred.parcelid and pred.transactiondate = txn.transactiondate -- using(parcelid, transactiondate)\n",
    "\n",
    "\t\t\t-- #4: left join otherwise we would have dropped a TON of rows due to all the nulls \n",
    "\t\t\tleft join airconditioningtype as ac on prop.airconditioningtypeid = ac.airconditioningtypeid\n",
    ") AS a -- because subqueries need to be aliased. \n",
    ";"
   ]
  },
  {
   "cell_type": "markdown",
   "id": "83b4887a",
   "metadata": {},
   "source": [
    "select * from predictions_2017\n",
    "where parcelid = 11721753;"
   ]
  },
  {
   "cell_type": "markdown",
   "id": "345379fe",
   "metadata": {},
   "source": [
    "join predictions_2017 as pred  on prop.parcelid = pred.parcelid and pred.transactiondate = txn.transactiondate -- using(parcelid, transactiondate)"
   ]
  },
  {
   "cell_type": "code",
   "execution_count": null,
   "id": "26ac4630",
   "metadata": {},
   "outputs": [],
   "source": []
  }
 ],
 "metadata": {
  "kernelspec": {
   "display_name": "Python 3",
   "language": "python",
   "name": "python3"
  },
  "language_info": {
   "codemirror_mode": {
    "name": "ipython",
    "version": 3
   },
   "file_extension": ".py",
   "mimetype": "text/x-python",
   "name": "python",
   "nbconvert_exporter": "python",
   "pygments_lexer": "ipython3",
   "version": "3.8.8"
  }
 },
 "nbformat": 4,
 "nbformat_minor": 5
}
