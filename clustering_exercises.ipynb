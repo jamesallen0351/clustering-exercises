{
 "cells": [
  {
   "cell_type": "code",
   "execution_count": 2,
   "id": "bc5881bc",
   "metadata": {},
   "outputs": [],
   "source": [
    "# clustering_exercises"
   ]
  },
  {
   "cell_type": "markdown",
   "id": "3020d8d2",
   "metadata": {},
   "source": [
    "# Clustering\n",
    "\n",
    "## Workflow\n",
    "\n",
    "### - Throughout the exercises, you may wish to do your work in a notebook, then transfer any functions you've created to an external python script.\n",
    "\n",
    "### - Keep in mind this is not always a linear process! You will probably be cycling between a notebook and an external python script frequently.\n",
    "\n",
    "### - Remember to run your code often to check for correct output and/or errors."
   ]
  },
  {
   "cell_type": "code",
   "execution_count": null,
   "id": "c1d62124",
   "metadata": {},
   "outputs": [],
   "source": []
  }
 ],
 "metadata": {
  "kernelspec": {
   "display_name": "Python 3",
   "language": "python",
   "name": "python3"
  },
  "language_info": {
   "codemirror_mode": {
    "name": "ipython",
    "version": 3
   },
   "file_extension": ".py",
   "mimetype": "text/x-python",
   "name": "python",
   "nbconvert_exporter": "python",
   "pygments_lexer": "ipython3",
   "version": "3.8.8"
  }
 },
 "nbformat": 4,
 "nbformat_minor": 5
}
